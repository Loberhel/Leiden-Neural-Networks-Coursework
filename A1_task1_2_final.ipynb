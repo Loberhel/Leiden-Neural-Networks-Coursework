{
 "cells": [
  {
   "cell_type": "markdown",
   "metadata": {},
   "source": [
    "# Task 1 and Task 2\n",
    "This notebooks answers task 1 and task 2 of the assignment"
   ]
  },
  {
   "cell_type": "markdown",
   "metadata": {},
   "source": [
    "## Task 1 Analyze distances between images \n",
    "The purpose of this task is to develop some intuitions about clouds of points in highlydimensional spaces.  In particular, you are supposed to develop a very simple algorithm forclassifying hand-written digits"
   ]
  },
  {
   "cell_type": "code",
   "execution_count": 1,
   "metadata": {
    "collapsed": true
   },
   "outputs": [],
   "source": [
    "import numpy as np\n",
    "import matplotlib.pyplot as plt\n",
    "import seaborn as sns\n",
    "import sys\n",
    "import os\n",
    "from sklearn.metrics.pairwise import pairwise_distances as pairdist\n",
    "import warnings\n",
    "from sklearn.exceptions import DataConversionWarning"
   ]
  },
  {
   "cell_type": "code",
   "execution_count": 2,
   "metadata": {
    "collapsed": true
   },
   "outputs": [],
   "source": [
    "def select_user():\n",
    "    \n",
    "    \"\"\"\n",
    "    \n",
    "    To avoid copypasting the directory path every time\n",
    "    \n",
    "    \"\"\"\n",
    "    global root_path\n",
    "    \n",
    "    user = input('Choose root path (l or a, e to exit): ')\n",
    "    if user == 'l':\n",
    "        print('User: Lindsey')\n",
    "        root_path = root_path_L\n",
    "    elif user == 'a':\n",
    "        print('User: Alberto')\n",
    "        root_path = root_path_A\n",
    "    elif user == 'e':\n",
    "        sys.exit('No user selected')\n",
    "    else:\n",
    "        print('Please type l or a, e to exit')\n",
    "        select_user()"
   ]
  },
  {
   "cell_type": "code",
   "execution_count": 3,
   "metadata": {},
   "outputs": [
    {
     "name": "stdout",
     "output_type": "stream",
     "text": [
      "Choose root path (l or a, e to exit): l\n",
      "User: Lindsey\n"
     ]
    }
   ],
   "source": [
    "root_path_L = '/Users/obe-won/Desktop/NN'\n",
    "root_path_A = '/Users/Alberto/Documents/Università/Leiden/DLNN/assignment 1'\n",
    "root_path = ''\n",
    "\n",
    "select_user()\n",
    "\n",
    "#Import the test and training data\n",
    "test_in = np.loadtxt(root_path + '/data/test_in.csv', delimiter=',')\n",
    "test_out = np.loadtxt(root_path + '/data/test_out.csv', delimiter=',', dtype=int)\n",
    "train_in = np.loadtxt(root_path + '/data/train_in.csv', delimiter=',')\n",
    "train_out = np.loadtxt(root_path + '/data/train_out.csv', delimiter=',', dtype=int)\n",
    "\n",
    "number_train = [len(train_out[np.where(train_out == i)]) for i in range(10)]\n",
    "number_test = [len(test_out[np.where(test_out == i)]) for i in range(10)]"
   ]
  },
  {
   "cell_type": "markdown",
   "metadata": {},
   "source": [
    "The centers are just the 256-dimensional vector of means over all the coordinates of vectors that belong to each image\n",
    "There are pixel values from 0 to 255 and they need to be normalized to values that range from -0.5 to 0.5 to make the network easier to train. This classifier will be using Euclidean distances as the distances that is calculated by \n",
    "<math>\\begin{align}d(\\mathbf{x},\\mathbf{y}) & = \\sqrt{(x_1-y_1)^2 + (x_2-y_2)^2 + \\cdots + (x_n-y_n)^2} \\\\[8pt]\n",
    "& = \\sqrt{\\sum_{i=1}^n (x_i-y_i)^2}.\\end{align}</math>"
   ]
  },
  {
   "cell_type": "code",
   "execution_count": 4,
   "metadata": {
    "collapsed": true
   },
   "outputs": [],
   "source": [
    "def Distance(x, y, met='euclidean'):\n",
    "    \n",
    "    \"\"\"\n",
    "    This function rescales the argument arrays within \n",
    "    the (-0.5, 0.5) range and calculates the Euclidian \n",
    "    distance between two vectors x and y\n",
    "    \n",
    "    Inputs: \n",
    "        x, y: (i.e the 1-dimensional vectors)\n",
    "    Outputs:\n",
    "        dist: distance computed with pairdist\n",
    "        np.sqrt(dist_eucl): Euclidian distance (for debug purposes)\n",
    "        \n",
    "    \"\"\" \n",
    "    \n",
    "    #res_x = np.interp(x, (-1, 1), (-0.5, +0.5))\n",
    "    #res_y = np.interp(y, (-1, 1), (-0.5, +0.5))\n",
    "    \n",
    "    dist_eucl = 0\n",
    "    for i in range(len(x)):\n",
    "        dist_eucl += (x[i] - y[i])**2.\n",
    "    \n",
    "    new_x = np.reshape(x, (1, -1))\n",
    "    new_y = np.reshape(y, (1, -1))\n",
    "    \n",
    "    dist = pairdist(new_x, Y=new_y, metric=met)\n",
    "    \n",
    "    return dist, np.sqrt(dist_eucl)"
   ]
  },
  {
   "cell_type": "code",
   "execution_count": 5,
   "metadata": {
    "collapsed": true
   },
   "outputs": [],
   "source": [
    "def Calculate_Center_Radius(data_in, data_out, n, met='euclidean'):\n",
    "    \n",
    "    \"\"\"\n",
    "    Calculate the maximum distance of points from the center for every cloud\n",
    "    \n",
    "    Inputs: \n",
    "        data_input: all of the images, \n",
    "        data_out: the labels of all images, \n",
    "        n: list of numbers of pictures for each digit\n",
    "    Outputs:\n",
    "        radii: array of length 10 of the maximum distance from center for each digit \n",
    "        centers: a 256x10-matrix where each ith column contains the average 256-vector for digit i\n",
    "        \n",
    "    \"\"\"\n",
    "    #Get the centers for each of the digits \n",
    "    centers = [np.mean(data_in[np.where(data_out == i)], axis=0) for i in range(10)]\n",
    "    \n",
    "    radii = np.zeros(10)\n",
    "    \n",
    "    for i in range(10):\n",
    "        for j in range(n[i]):\n",
    "            temp, temp_eucl = Distance(centers[i], data_in[np.where(data_out == i)][j], met=met)\n",
    "            if temp > radii[i]:\n",
    "                #print('Found higher radius for digit %d: {}'.format(temp) %i)\n",
    "                #print('Difference between distances: {}'.format(temp) + ', {}'.format(temp_eucl))\n",
    "                radii[i] = temp\n",
    "    return radii, centers"
   ]
  },
  {
   "cell_type": "code",
   "execution_count": null,
   "metadata": {
    "collapsed": true
   },
   "outputs": [],
   "source": []
  },
  {
   "cell_type": "code",
   "execution_count": 6,
   "metadata": {},
   "outputs": [
    {
     "name": "stdout",
     "output_type": "stream",
     "text": [
      "Radius per digit: [ 15.89293034   9.48136346  14.16875359  14.74475895  14.53352217\n",
      "  14.45195133  14.03151782  14.90896865  13.70578192  16.13869602]\n"
     ]
    },
    {
     "name": "stderr",
     "output_type": "stream",
     "text": [
      "/Users/obe-won/anaconda/lib/python3.6/site-packages/matplotlib/figure.py:1742: UserWarning: This figure includes Axes that are not compatible with tight_layout, so its results might be incorrect.\n",
      "  warnings.warn(\"This figure includes Axes that are not \"\n"
     ]
    },
    {
     "data": {
      "image/png": "[encoded data removed]",
      "text/plain": [
       "<matplotlib.figure.Figure at 0x1105c5668>"
      ]
     },
     "metadata": {},
     "output_type": "display_data"
    },
    {
     "data": {
      "text/plain": [
       "<matplotlib.figure.Figure at 0x11105fa58>"
      ]
     },
     "metadata": {},
     "output_type": "display_data"
    },
    {
     "data": {
      "text/plain": [
       "<matplotlib.figure.Figure at 0x11094b710>"
      ]
     },
     "metadata": {},
     "output_type": "display_data"
    },
    {
     "data": {
      "image/png": "[encoded data removed]",
      "text/plain": [
       "<matplotlib.figure.Figure at 0x110e0c358>"
      ]
     },
     "metadata": {},
     "output_type": "display_data"
    }
   ],
   "source": [
    "def task1(met='euclidean'):\n",
    "    \n",
    "    \"\"\"\n",
    "    This function performs all the calculations of the number of pictures\n",
    "    per digit, the radius, center distances. It prints out the results and\n",
    "    displays the distance matrix of the centers.\n",
    "    \n",
    "    \"\"\"\n",
    "    \n",
    "    #Make an array of the number of pictures for each digit\n",
    "    radii, centers = Calculate_Center_Radius(train_in, train_out, number_train, met=met)\n",
    "\n",
    "    #Need to normalize the radius to the number of images\n",
    "    #normalized_radius = radius / number_train\n",
    "    center_mat = pairdist(centers, Y=centers, metric=met)\n",
    "\n",
    "    #np.savetxt(root_path + '/log/train_radii_' + met + '.txt', radii, delimiter=',')\n",
    "    #np.savetxt(root_path + '/log/train_centers_' + met + '.txt', centers, delimiter=','\n",
    "  \n",
    "    print(\"Radius per digit: {}\".format(radii))\n",
    "    \n",
    "    fig, ax = plt.subplots(2,5, figsize=(12,4), tight_layout=True)\n",
    "    for i, center in enumerate(centers):\n",
    "        ax[i//5,i%5].imshow(center.reshape(16,16), cmap='binary')\n",
    "        ax[i//5,i%5].xaxis.set_major_formatter(plt.NullFormatter())\n",
    "        ax[i//5,i%5].yaxis.set_major_formatter(plt.NullFormatter())\n",
    "        \n",
    "    plt.savefig(\"centers_clouds.png\")\n",
    "    plt.show()\n",
    "    plt.clf()\n",
    "    \n",
    "    \n",
    "    plt.figure(figsize=(10,10.5))\n",
    "   \n",
    "    fig1, ax1 = plt.subplots()\n",
    "    im = ax1.imshow(center_mat, cmap = 'OrRd')\n",
    "\n",
    "    # We want to show all ticks...\n",
    "    ax1.set_xticks(np.arange(10))\n",
    "    ax1.set_yticks(np.arange(10))\n",
    "    # ... and label them with the respective list entries\n",
    "   \n",
    "    ax1.set_xticklabels(np.arange(10))\n",
    "    ax1.set_yticklabels(np.arange(10))\n",
    "\n",
    "    # Rotate the tick labels and set their alignment.\n",
    "    plt.setp(ax1.get_xticklabels(), rotation=45, ha=\"right\",\n",
    "         rotation_mode=\"anchor\")\n",
    "\n",
    "    # Loop over data dimensions and create text annotations.\n",
    "    for i in range(0,10):\n",
    "        for j in range(0,10):\n",
    "            text = ax1.text(j, i, '%.2f' % center_mat[i, j], ha=\"center\", va=\"center\")\n",
    "            \n",
    "    cl = fig1.colorbar(im)     \n",
    "    cl.set_label('Distance', fontsize = '18')\n",
    "    fig1.tight_layout()\n",
    "    fig1.savefig(\"centerdistance.png\")\n",
    "    plt.show()\n",
    "    \n",
    "task1()"
   ]
  },
  {
   "cell_type": "markdown",
   "metadata": {},
   "source": [
    "## Task 2\n",
    "The task is to implement a simple distance-based classifier. Then apply it to all training and test data points and calculate a percentage of correctly classified digits. Then produce a confusion matrix for both the training and the test data"
   ]
  },
  {
   "cell_type": "code",
   "execution_count": 60,
   "metadata": {
    "collapsed": true
   },
   "outputs": [],
   "source": [
    "def classifier(train=True, met='euclidean'):\n",
    "    \"\"\"\n",
    "    This function classifies the images calculating the distance from each center,\n",
    "    then finds the smallest one, finally giving the classification.\n",
    "    \n",
    "    Inputs:\n",
    "    train: determines if we are classifying the training or test set. True: training set.\n",
    "           False: test set. Default is True\n",
    "    met: string value that determines the metric to calculate the distance.\n",
    "         Default is euclidean\n",
    "         \n",
    "    Outputs:\n",
    "    dist_array: array with the images classifications and the minimum radius found\n",
    "    \"\"\"\n",
    "    \n",
    "    #checks if centers and radii log exist\n",
    "    f_rad = os.path.isfile(root_path + '/log/train_radii_' + met + '.txt')\n",
    "    f_cent = os.path.isfile(root_path + '/log/train_centers_' + met + '.txt')\n",
    "    \n",
    "    #if they exist, loads the data\n",
    "    if f_rad and f_cent == True:\n",
    "        print('Loading training set radii and centers, metric = ' + met)\n",
    "        radii = np.loadtxt(root_path + '/log/train_radii_' + met + '.txt', delimiter=',')\n",
    "        centers = np.loadtxt(root_path + '/log/train_centers_' + met + '.txt', delimiter=',')\n",
    "        \n",
    "    #if not, calls Calculate_Center_Radius to calculate the data\n",
    "    else:\n",
    "        print('No ' + met + ' log found, computing radii and centers')\n",
    "        radii, centers = Calculate_Center_Radius(train_in, train_out, number_train, met=met)\n",
    "    \n",
    "    #loads the correct array to classify\n",
    "    if train == True:\n",
    "        array_in = train_in\n",
    "        print('Classifying training set...')\n",
    "    else:\n",
    "        print('Classifying test set...')\n",
    "        array_in = test_in\n",
    "    \n",
    "    n_rows, n_col = np.shape(array_in)\n",
    "    \n",
    "    #output array with rows = number of images and columns = 2\n",
    "    dist_array = np.empty((n_rows, 2))\n",
    "    \n",
    "    #for cycle over every image\n",
    "    for img in range(n_rows):\n",
    "        \n",
    "        #selects one image\n",
    "        one_img = array_in[img,:]\n",
    "        \n",
    "        #list of distances\n",
    "        dist_list = []\n",
    "        \n",
    "        #for cycle over every digit\n",
    "        for digit in range(10):\n",
    "            \n",
    "            #center corresponding to that digit\n",
    "            one_center = centers[digit]\n",
    "            \n",
    "            #distance between the image and the center\n",
    "            temp_dist, dump = Distance(one_img, one_center, met=met)\n",
    "            \n",
    "            #appends the distance to the list\n",
    "            dist_list.append(temp_dist)\n",
    "            \n",
    "        #the classified digit is the index of the smallest distance in the list\n",
    "        min_digit = np.argmin(dist_list)\n",
    "        \n",
    "        #the corresponding radius\n",
    "        min_rad = dist_list[min_digit]\n",
    "        \n",
    "        #writes the values into the output array\n",
    "        dist_array[img,:] = min_rad, min_digit\n",
    "        \n",
    "    return dist_array"
   ]
  },
  {
   "cell_type": "code",
   "execution_count": 61,
   "metadata": {
    "collapsed": true
   },
   "outputs": [],
   "source": [
    "def Accuracy(classification, train=True):\n",
    "    \"\"\"\n",
    "    Inputs:\n",
    "        fit - predicted value for each image (array)\n",
    "        data_out - desired value for each image (array)\n",
    "    This fucntion Calculates percentage of correctly classified digits\n",
    "    Outputs:\n",
    "        percentage of correctly classified digits\n",
    "    \"\"\"\n",
    "    \n",
    "    if train == True:\n",
    "        array_out = train_out\n",
    "        print('Computing training set accuracy...')\n",
    "    else:\n",
    "        print('Computing test set accuracy...')\n",
    "        array_out = test_out\n",
    "    \n",
    "    return len(np.where(classification[:,1] == array_out)[0])/len(array_out)*100."
   ]
  },
  {
   "cell_type": "code",
   "execution_count": 62,
   "metadata": {
    "collapsed": true
   },
   "outputs": [],
   "source": [
    "def metric_accuracy(train=True):\n",
    "    \n",
    "    \"\"\"\n",
    "    This function runs through the different distance calculators and presents the \n",
    "    accuracy for each one.\n",
    "    \"\"\"\n",
    "    \n",
    "    #skipping dice, jaccard, kulusinski, mahalanobis, rogerstanimoto, seuclidean\n",
    "\n",
    "    warnings.filterwarnings(action='ignore', category=DataConversionWarning)\n",
    "\n",
    "    metric_list = ['euclidean', 'cityblock', 'cosine', 'l1', 'l2', 'manhattan', \n",
    "                   'braycurtis', 'canberra', 'chebyshev', 'correlation', 'hamming', \n",
    "                   'minkowski', 'russellrao', 'sokalmichener', \n",
    "                   'sokalsneath', 'sqeuclidean', 'yule', ]\n",
    "\n",
    "    for metric in metric_list:\n",
    "        classifications = classifier(train=train, met=metric) \n",
    "        acc = Accuracy(classifications, train=train)\n",
    "        print('metric: ' + metric + ', Accuracy: {}'.format(acc) + '\\n')"
   ]
  },
  {
   "cell_type": "code",
   "execution_count": 63,
   "metadata": {},
   "outputs": [
    {
     "name": "stdout",
     "output_type": "stream",
     "text": [
      "No euclidean log found, computing radii and centers\n",
      "Classifying test set...\n",
      "Computing test set accuracy...\n",
      "metric: euclidean, Accuracy: 80.4\n",
      "\n",
      "No cityblock log found, computing radii and centers\n",
      "Classifying test set...\n",
      "Computing test set accuracy...\n",
      "metric: cityblock, Accuracy: 72.1\n",
      "\n",
      "No cosine log found, computing radii and centers\n",
      "Classifying test set...\n",
      "Computing test set accuracy...\n",
      "metric: cosine, Accuracy: 79.9\n",
      "\n",
      "No l1 log found, computing radii and centers\n",
      "Classifying test set...\n",
      "Computing test set accuracy...\n",
      "metric: l1, Accuracy: 72.1\n",
      "\n",
      "No l2 log found, computing radii and centers\n",
      "Classifying test set...\n",
      "Computing test set accuracy...\n",
      "metric: l2, Accuracy: 80.4\n",
      "\n",
      "No manhattan log found, computing radii and centers\n",
      "Classifying test set...\n",
      "Computing test set accuracy...\n",
      "metric: manhattan, Accuracy: 72.1\n",
      "\n",
      "No braycurtis log found, computing radii and centers\n",
      "Classifying test set...\n",
      "Computing test set accuracy...\n",
      "metric: braycurtis, Accuracy: 68.2\n",
      "\n",
      "No canberra log found, computing radii and centers\n",
      "Classifying test set...\n",
      "Computing test set accuracy...\n",
      "metric: canberra, Accuracy: 44.4\n",
      "\n",
      "No chebyshev log found, computing radii and centers\n",
      "Classifying test set...\n",
      "Computing test set accuracy...\n",
      "metric: chebyshev, Accuracy: 78.4\n",
      "\n",
      "No correlation log found, computing radii and centers\n",
      "Classifying test set...\n",
      "Computing test set accuracy...\n",
      "metric: correlation, Accuracy: 80.60000000000001\n",
      "\n",
      "No hamming log found, computing radii and centers\n",
      "Classifying test set...\n",
      "Computing test set accuracy...\n",
      "metric: hamming, Accuracy: 12.1\n",
      "\n",
      "No minkowski log found, computing radii and centers\n",
      "Classifying test set...\n",
      "Computing test set accuracy...\n",
      "metric: minkowski, Accuracy: 80.4\n",
      "\n",
      "No russellrao log found, computing radii and centers\n",
      "Classifying test set...\n",
      "Computing test set accuracy...\n",
      "metric: russellrao, Accuracy: 22.400000000000002\n",
      "\n",
      "No sokalmichener log found, computing radii and centers\n",
      "Classifying test set...\n",
      "Computing test set accuracy...\n",
      "metric: sokalmichener, Accuracy: 22.400000000000002\n",
      "\n",
      "No sokalsneath log found, computing radii and centers\n",
      "Classifying test set...\n",
      "Computing test set accuracy...\n",
      "metric: sokalsneath, Accuracy: 22.400000000000002\n",
      "\n",
      "No sqeuclidean log found, computing radii and centers\n",
      "Classifying test set...\n",
      "Computing test set accuracy...\n",
      "metric: sqeuclidean, Accuracy: 80.4\n",
      "\n",
      "No yule log found, computing radii and centers\n",
      "Classifying test set...\n",
      "Computing test set accuracy...\n",
      "metric: yule, Accuracy: 22.400000000000002\n",
      "\n"
     ]
    }
   ],
   "source": [
    "metric_accuracy(train=False)"
   ]
  },
  {
   "cell_type": "code",
   "execution_count": 72,
   "metadata": {
    "collapsed": true
   },
   "outputs": [],
   "source": [
    "def Confusion_Matrix(data_input, digit_classification, data_labels, n):\n",
    "    \"\"\"\n",
    "    Inputs:\n",
    "        data_in - all images\n",
    "        fit - predicted value for each image (vector)\n",
    "        data_out - desired value for each image (vector)\n",
    "        n - number of pictures for each digit (10-vector)\n",
    "        \n",
    "    This function calculates the confusion matrix where i,jth element contains percentage \n",
    "    of digits i classified as j\n",
    "    \n",
    "    Outputs:\n",
    "        confusion_matix - 10x10 confusion matrix\n",
    "    \"\"\"\n",
    "    confusion_matrix = np.empty((10,10))\n",
    "    for i in range(10):\n",
    "        for j in range(10):\n",
    "            confusion_matrix[i,j] = len(np.where((digit_classification[:,1] != data_labels) &\\\n",
    "                                   (data_labels == i) & (digit_classification[:,1] == j))[0])/n[i]*100.\n",
    "    return confusion_matrix\n"
   ]
  },
  {
   "cell_type": "code",
   "execution_count": null,
   "metadata": {},
   "outputs": [],
   "source": [
    "#Run on the training data\n",
    "classif = classifier(met='euclidean')\n",
    "print(classif)\n",
    "confusion_train = Confusion_Matrix(train_in, classif, train_out, number_train) \n",
    "plt.clf()\n",
    "plt.figure(figsize=(10,10))\n",
    "ax = sns.heatmap(confusion_train, cmap='OrRd', linewidth=1, cbar_kws={'label': 'Percentage Misclassifications'})\n",
    "ax.figure.axes[-1].yaxis.label.set_size(18)\n",
    "plt.savefig('training_confusion_matrix.png')\n",
    "plt.show()\n",
    "\n",
    "#Run the classifier on the test data \n",
    "plt.clf()\n",
    "classif = classifier(train = 'False', met='euclidean')\n",
    "confusion_train = Confusion_Matrix(test_in, classif, test_out, number_test) \n",
    "plt.figure(figsize=(10,10))\n",
    "ax = sns.heatmap(confusion_train, cmap='OrRd', linewidth=1, cbar_kws={'label': 'Percentage Misclassifications'})\n",
    "ax.figure.axes[-1].yaxis.label.set_size(18)\n",
    "ax.tick_params(axis=\"x\", labelsize=8)\n",
    "ax.tick_params(axis=\"y\", labelsize=20)\n",
    "plt.savefig('testing_confusion_matrix.png')\n",
    "plt.show()"
   ]
  },
  {
   "cell_type": "code",
   "execution_count": null,
   "metadata": {},
   "outputs": [],
   "source": []
  },
  {
   "cell_type": "code",
   "execution_count": null,
   "metadata": {
    "collapsed": true
   },
   "outputs": [],
   "source": []
  }
 ],
 "metadata": {
  "kernelspec": {
   "display_name": "Python 3",
   "language": "python",
   "name": "python3"
  },
  "language_info": {
   "codemirror_mode": {
    "name": "ipython",
    "version": 3
   },
   "file_extension": ".py",
   "mimetype": "text/x-python",
   "name": "python",
   "nbconvert_exporter": "python",
   "pygments_lexer": "ipython3",
   "version": "3.7.1"
  }
 },
 "nbformat": 4,
 "nbformat_minor": 2
}
